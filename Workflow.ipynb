{
 "cells": [
  {
   "cell_type": "code",
   "execution_count": null,
   "id": "promotional-senator",
   "metadata": {},
   "outputs": [],
   "source": [
    "%%javascript\n",
    "IPython.OutputArea.prototype._should_scroll = function(lines) {\n",
    "    return false;\n",
    "}"
   ]
  },
  {
   "cell_type": "markdown",
   "id": "portuguese-copying",
   "metadata": {},
   "source": [
    "# Workflow Control\n",
    "This notebook provides an end-to-end procedure for implementing the method described in \"Unsupervised Deep Clustering of Seismic Data: Monitoring the Ross Ice Shelf, Antarctica.\"\n",
    "\n",
    "<img src=\"RISArrayMap.jpg\" alt=\"RISArrayMap\" width=\"600\"/>"
   ]
  },
  {
   "cell_type": "markdown",
   "id": "integrated-dating",
   "metadata": {},
   "source": [
    "<a id=\"contents\"></a>\n",
    "***\n",
    "## <u>Table of Contents</u>\n",
    "\n",
    "1. [Initialize Project Environment](#section1)\n",
    "2. [Seismic Pre-Processing](#section2)\n",
    "3. [Set Universal Experiment Parameters](#section3)\n",
    "4. [Autoencoder (AEC)](#section4)\n",
    "5. [Gaussian Mixtures Model (GMM)](#section5)\n",
    "6. [Deep Embedded Clustering (DEC)](#section6)\n",
    "7. [Compare GMM & DEC](#section7)\n",
    "8. [Environmental Data Exploration](#section8)\n",
    "\n",
    "Appendices  \n",
    "A. [Evaluate Optimal Number of Clusters](#appendixA)"
   ]
  },
  {
   "cell_type": "code",
   "execution_count": null,
   "id": "central-april",
   "metadata": {},
   "outputs": [],
   "source": [
    "import datetime\n",
    "import os\n",
    "import sys\n",
    "\n",
    "from IPython.display import Markdown as md\n",
    "import numpy as np\n",
    "import pandas as pd\n",
    "import torch\n",
    "from torch.utils.data import DataLoader, Subset\n",
    "from torchinfo import summary\n",
    "from torchvision import transforms\n",
    "\n",
    "from RISCluster import models, plotting, utils\n",
    "from RISCluster.networks import AEC, DEC\n",
    "from RISProcess.io import config"
   ]
  },
  {
   "cell_type": "markdown",
   "id": "dated-writer",
   "metadata": {},
   "source": [
    "<a id=\"section1\"></a>\n",
    "***\n",
    "## <u>1 Initialize Project Environment</u>\n",
    "The default project structure is:<br>\n",
    "`/Project Folder\n",
    "├── Config\n",
    "├── Data\n",
    "│   ├── Meteo\n",
    "│   ├── Ice\n",
    "│   ├── Seismo\n",
    "│   │   ├── MSEED\n",
    "│   │   └── StationXML\n",
    "└── Outputs\n",
    "`\n",
    "<br>Note that the raw seismic data from 1-Dec-2014 to 1-Dec-2016 is nearly 1 TB. It may be practical to split out the project's `Data` folder onto a disk with more storage.  If so, set the path to the data storage below."
   ]
  },
  {
   "cell_type": "code",
   "execution_count": null,
   "id": "veterinary-highway",
   "metadata": {},
   "outputs": [],
   "source": [
    "# Main project folder to save outputs:\n",
    "project_folder = '.'\n",
    "# Path to configuration files:\n",
    "path_config = f\"{project_folder}/Config\"\n",
    "# Path to folder containing data, including HDF file for ML workflow:\n",
    "path_data = f\"{project_folder}/Data\"\n",
    "# Path to raw seismic data:\n",
    "# path_data_seismo = f\"{path_data}/Seismo\"\n",
    "path_data_seismo = \"/zdata2/data/wfjenkin/RIS_Seismic\"\n",
    "# Path to save workflow outputs (ML models, figures, results, etc.)\n",
    "path_output = f\"{project_folder}/Outputs\"\n",
    "# Path to HDF dataset:\n",
    "fname_dataset = f\"{path_data}/RISData_20210713.h5\"\n",
    "# Path to save paper-ready figures:\n",
    "figure_savepath = f\"{path_output}/Figures\"\n",
    "\n",
    "utils.init_project_env([path_config, path_data, path_data_seismo, path_output, figure_savepath])"
   ]
  },
  {
   "cell_type": "markdown",
   "id": "cloudy-accident",
   "metadata": {},
   "source": [
    "<a href=\"#contents\">Return to Top</a>\n",
    "<a id=\"section2\"></a>\n",
    "***\n",
    "## <u>2 Seismic Pre-Processing</u>\n",
    "Four workflows are provided for obtaining and pre-processing seismic data.  The recommended workflow makes use of sections 2.1, 2.3, and 2.4; section 2.2 is not required for the rest of the workflow, but instead provides a pipeline to save pre-processed data to disk."
   ]
  },
  {
   "cell_type": "markdown",
   "id": "declared-vanilla",
   "metadata": {},
   "source": [
    "### 2.1 Download Data\n",
    "In this workflow, seismic data is downloaded using the FDSN mass data downloader. Data set parameters are stored in the configuration file to configpath; MSEED data are saved to `datapath/MSEED`; and station XML data are saved to `datapath/StationXML`.  The MSEED data are saved according to the following convention:\n",
    "`Network.Station..Channel__YYYYMMDDTHHMMSSZ__YYYYMMDDTHHMMSSZ.mseed`"
   ]
  },
  {
   "cell_type": "code",
   "execution_count": null,
   "id": "possible-speech",
   "metadata": {},
   "outputs": [],
   "source": [
    "parameters = {\n",
    "    'start': '20141201T0000',\n",
    "    'stop': '20141203T0000',\n",
    "    'mode': 'download',\n",
    "    'datapath': path_data_seismo,\n",
    "    'network': 'XH',\n",
    "    'station': '*',\n",
    "    'channel': 'HH*',\n",
    "}\n",
    "config_file = config('w', path=path_config, parameters=parameters)\n",
    "print(\"Run the following in Terminal:\")\n",
    "md(f\"`dlfdsn {config_file}`\")"
   ]
  },
  {
   "cell_type": "markdown",
   "id": "anonymous-electricity",
   "metadata": {},
   "source": [
    "### 2.2 Pre-process Data\n",
    "In this workflow, raw seismic data is read from `datapath`, processed, and saved to `writepath` according to the following file naming conventions:<br>\n",
    "`MSEED/Network/Station/Network.Station.Channel.YYYY.DAY.mseed`\n",
    "\n",
    "For the input data, two file formats are available.\n",
    "<br>**Format 1:**\n",
    "<br>`Network.Station.Channel.YYYY.DAY.mseed`\n",
    "<br>**Format 2:**\n",
    "<br>`Network.Station..Channel__YYYYMMDDTHHMMSSZ__YYYYMMDDTHHMMSSZ.mseed`"
   ]
  },
  {
   "cell_type": "code",
   "execution_count": null,
   "id": "impressed-nitrogen",
   "metadata": {},
   "outputs": [],
   "source": [
    "# parameters = {\n",
    "#     'start': '20141201T0000',\n",
    "#     'stop': '20161203T0000',\n",
    "#     'mode': 'preprocess',\n",
    "#     'sourcepath': path_data_seismo,\n",
    "#     'name_format': 2,\n",
    "#     'writepath': f\"{path_data_seismo}/Preprocessed\",\n",
    "#     'parampath': f\"{path_data_seismo}/Preprocessed\",\n",
    "#     'network': 'XH',\n",
    "#     'channel': 'HHZ',\n",
    "#     'taper': 60,\n",
    "#     'prefeed': 60,\n",
    "#     'fs2': 50,\n",
    "#     'cutoff': '3, 20',\n",
    "#     'output': 'acc',\n",
    "#     'prefilt': '0.004, 0.01, 500, 1000',\n",
    "#     'waterlevel': 14,\n",
    "#     'detector': 'z',\n",
    "#     'on': 8,\n",
    "#     'off': 4,\n",
    "#     'num_workers': 4\n",
    "# }\n",
    "\n",
    "parameters = {\n",
    "    'start': '20161119T0000',\n",
    "    'stop': '20161125T0000',\n",
    "    'mode': 'preprocess',\n",
    "    'sourcepath': f\"{path_data_seismo}\",\n",
    "    'name_format': 2,\n",
    "    'writepath': f\"{path_data_seismo}/Preprocessed\",\n",
    "    'parampath': f\"{path_data_seismo}/Preprocessed\",\n",
    "    'network': 'XH',\n",
    "    'channel': 'HHZ',\n",
    "    'taper': 60,\n",
    "    'prefeed': 60,\n",
    "    'fs2': 50,\n",
    "    'cutoff': '3, 20',\n",
    "    'output': 'acc',\n",
    "    'prefilt': '0.004, 0.01, 500, 1000',\n",
    "    'waterlevel': 14,\n",
    "#     'detector': 'z',\n",
    "#     'on': 8,\n",
    "#     'off': 4,\n",
    "    'num_workers': 17\n",
    "}\n",
    "config_file = config('w', path=path_config, parameters=parameters)\n",
    "print(\"Run the following in Terminal:\")\n",
    "md(f\"`process {config_file}`\")"
   ]
  },
  {
   "cell_type": "markdown",
   "id": "eleven-silly",
   "metadata": {},
   "source": [
    "### 2.3 Detect Events & Build Catalogue\n",
    "In this workflow, raw seismic data in `datapath` are processed in 24-hour segments, and an event detection algorithm is applied. The results of the event detector are compiled into a catalogue that is saved to disk at `writepath`. This catalogue serves as a useful pointer for follow-on processing of events of interest, rather than continuous data."
   ]
  },
  {
   "cell_type": "markdown",
   "id": "magnetic-balloon",
   "metadata": {},
   "source": [
    "#### 2.3.1 Build Unsorted Catalogue"
   ]
  },
  {
   "cell_type": "code",
   "execution_count": null,
   "id": "nasty-depression",
   "metadata": {},
   "outputs": [],
   "source": [
    "# parameters = {\n",
    "#     'start': '20141201T0000',\n",
    "#     'stop': '20141203T0000',\n",
    "#     'mode': 'full',\n",
    "#     'sourcepath': path_data_seismo,\n",
    "#     'name_format': 2,\n",
    "#     'writepath': path_data,\n",
    "#     'parampath': path_data,\n",
    "#     'network': 'XH',\n",
    "#     'channel': 'HHZ',\n",
    "#     'taper': 60,\n",
    "#     'prefeed': 60,\n",
    "#     'fs2': 50,\n",
    "#     'cutoff': '3, 20',\n",
    "#     'output': 'acc',\n",
    "#     'prefilt': '0.004, 0.01, 500, 1000',\n",
    "#     'waterlevel': 14,\n",
    "#     'detector': 'z',\n",
    "#     'on': 8,\n",
    "#     'off': 4,\n",
    "#     'num_workers': 4\n",
    "# }\n",
    "\n",
    "parameters = {\n",
    "    'start': '20141203T0000',\n",
    "    'stop':  '20161121T0000',\n",
    "    'mode': 'detect',\n",
    "    'sourcepath': f\"{path_data_seismo}/Preprocessed\",\n",
    "    'name_format': 1,\n",
    "    'writepath': path_data,\n",
    "    'parampath': path_data,\n",
    "    'network': 'XH',\n",
    "    'station': '*',\n",
    "    'channel': 'HHZ',\n",
    "    'taper': 60,\n",
    "    'prefeed': 60,\n",
    "    'detector': 'recursive',\n",
    "    'STA': 0.5,\n",
    "    'LTA': 30,\n",
    "    'on': 15,\n",
    "    'off': 10,\n",
    "    'num_workers': 32\n",
    "}\n",
    "\n",
    "config_file = config('w', path=path_config, parameters=parameters)\n",
    "print(\"Run the following in Terminal:\")\n",
    "md(f\"`process {config_file}`\")"
   ]
  },
  {
   "cell_type": "markdown",
   "id": "laughing-criminal",
   "metadata": {},
   "source": [
    "#### 2.3.2 Clean Catalogue\n",
    "Remove duplicate detections, and if desired, detections that occur within a window (s) following an initial detection."
   ]
  },
  {
   "cell_type": "code",
   "execution_count": null,
   "id": "selective-adoption",
   "metadata": {},
   "outputs": [],
   "source": [
    "window = 5\n",
    "!cleancat {path_data + '/catalogue.csv'} --dest {path_data + '/catalogue2.csv'} --window $window"
   ]
  },
  {
   "cell_type": "markdown",
   "id": "employed-trout",
   "metadata": {},
   "source": [
    "### 2.4 Build HDF Database from Catalogue\n",
    "In this workflow, a catalogue of detections at catalogue is used to process raw seismic data in `datapath`. In addition to pre-processing, the traces, spectrograms, and metadata of the detections are saved to an HDF database located at `writepath`. Because this workflow is implemented in parallel and results are returned asynchronously, a new catalogue is saved to `writepath.csv` that corresponds to the indexing within the HDF dataset. The index within `writepath.csv` corresponds to the original catalogue at catalogue."
   ]
  },
  {
   "cell_type": "code",
   "execution_count": null,
   "id": "artificial-france",
   "metadata": {},
   "outputs": [],
   "source": [
    "parameters = {\n",
    "    'start': '20141203T0000',\n",
    "    'stop': '20161121T0000',\n",
    "    'mode': 'cat2h5',\n",
    "    'sourcepath': path_data_seismo,\n",
    "    'name_format': 2,\n",
    "    'writepath': fname_dataset,\n",
    "    'catalogue': os.path.join(path_data,'catalogue2.csv'),\n",
    "    'parampath': path_data,\n",
    "    'network': 'XH',\n",
    "    'channel': 'HHZ',\n",
    "    'taper': 10,\n",
    "    'prefeed': 10,\n",
    "    'fs2': 50,\n",
    "    'cutoff': '3, 20',\n",
    "    'T_seg': 4,\n",
    "    'NFFT': 256,\n",
    "    'tpersnap': 0.4,\n",
    "    'overlap': 0.9,\n",
    "#     'output': 'acc',\n",
    "#     'prefilt': '0.004, 0.01, 500, 1000',\n",
    "#     'waterlevel': 14,\n",
    "#     'detector': 'z',\n",
    "#     'on': 8,\n",
    "#     'off': 4,\n",
    "    'det_window': 5,\n",
    "    'num_workers': 1\n",
    "}\n",
    "config_file = config('w', path=path_config, parameters=parameters)\n",
    "print(\"Run the following in Terminal:\")\n",
    "md(f\"`process {config_file}`\")"
   ]
  },
  {
   "cell_type": "markdown",
   "id": "regional-scholar",
   "metadata": {},
   "source": [
    "<a href=\"#contents\">Return to Top</a>\n",
    "<a id=\"section3\"></a>\n",
    "***\n",
    "## <u>3 Set Universal Parameters</u>"
   ]
  },
  {
   "cell_type": "code",
   "execution_count": null,
   "id": "saving-cameroon",
   "metadata": {},
   "outputs": [],
   "source": [
    "exp_name = \"FullArray\"\n",
    "\n",
    "# Get the number of samples in the dataset.\n",
    "!query_H5size $fname_dataset\n",
    "\n",
    "# Image Sample Indexes for Example Waveforms:\n",
    "img_index = [35578, 361499, 328177, 371888]\n",
    "\n",
    "# Generate new sample index for data set?\n",
    "genflag = False"
   ]
  },
  {
   "cell_type": "code",
   "execution_count": null,
   "id": "personal-playback",
   "metadata": {},
   "outputs": [],
   "source": [
    "if genflag:\n",
    "    M = 50000\n",
    "    !GenerateSampleIndex $M $fname_dataset $path_data"
   ]
  },
  {
   "cell_type": "code",
   "execution_count": null,
   "id": "brave-theory",
   "metadata": {},
   "outputs": [],
   "source": [
    "universal = {\n",
    "    'exp_name': exp_name,\n",
    "    'fname_dataset': fname_dataset,\n",
    "    'savepath': path_output,\n",
    "    'indexpath': os.path.join(path_data, 'TraValIndex_M=50000.pkl'),\n",
    "    'configpath': path_config\n",
    "}\n",
    "device_no = 1\n",
    "device = utils.set_device(device_no)\n",
    "transform = 'vec_norm'"
   ]
  },
  {
   "cell_type": "markdown",
   "id": "rolled-interpretation",
   "metadata": {},
   "source": [
    "<a href=\"#contents\">Return to Top</a>\n",
    "<a id=\"section4\"></a>\n",
    "***\n",
    "## <u>4 Autoencoder (AEC)</u>"
   ]
  },
  {
   "cell_type": "markdown",
   "id": "opposite-handle",
   "metadata": {},
   "source": [
    "### 4.1 AEC Architecture"
   ]
  },
  {
   "cell_type": "code",
   "execution_count": null,
   "id": "black-greek",
   "metadata": {},
   "outputs": [],
   "source": [
    "summary(AEC(), (1, 1, 87, 100))"
   ]
  },
  {
   "cell_type": "markdown",
   "id": "spanish-dayton",
   "metadata": {},
   "source": [
    "### 4.2 Configure AEC training"
   ]
  },
  {
   "cell_type": "code",
   "execution_count": null,
   "id": "religious-incidence",
   "metadata": {},
   "outputs": [],
   "source": [
    "parameters = {\n",
    "    'model': 'AEC',\n",
    "    'mode': 'train',\n",
    "    'n_epochs': 500,\n",
    "    'show': False,\n",
    "    'send_message': False,\n",
    "    'early_stopping': True,\n",
    "    'patience': 10,\n",
    "    'transform': transform,\n",
    "    'img_index': str(img_index)[1:-1],\n",
    "    'tb': True,\n",
    "    'tbport': 6999,\n",
    "    'workers': 8,\n",
    "    'loadmode': 'ram',\n",
    "    'datafiletype': 'h5'\n",
    "}\n",
    "hyperparameters = {\n",
    "    'batch_size': '64, 128, 256, 512',\n",
    "    'lr': '0.0001, 0.001, 0.01'\n",
    "}\n",
    "init_path = utils.config_training(universal, parameters, hyperparameters)\n",
    "config_AEC = utils.Configuration(init_path)\n",
    "config_AEC.load_config()\n",
    "config_AEC.set_device(device_no)\n",
    "config_AEC.show = True"
   ]
  },
  {
   "cell_type": "markdown",
   "id": "expressed-penguin",
   "metadata": {},
   "source": [
    "### 4.3 View Detection Examples"
   ]
  },
  {
   "cell_type": "code",
   "execution_count": null,
   "id": "silent-purchase",
   "metadata": {
    "scrolled": true
   },
   "outputs": [],
   "source": [
    "fig = plotting.view_detections(fname_dataset, img_index)"
   ]
  },
  {
   "cell_type": "code",
   "execution_count": null,
   "id": "6edd45c0",
   "metadata": {},
   "outputs": [],
   "source": [
    "fig.savefig(f\"{figure_savepath}/DetectionExamples.eps\", dpi=300, facecolor='w')"
   ]
  },
  {
   "cell_type": "markdown",
   "id": "broad-active",
   "metadata": {},
   "source": [
    "### 4.4 Train AEC"
   ]
  },
  {
   "cell_type": "code",
   "execution_count": null,
   "id": "elder-turkey",
   "metadata": {
    "scrolled": true
   },
   "outputs": [],
   "source": [
    "print(\"Run the following in Terminal:\")\n",
    "md(f\"`runDEC {init_path}`\")"
   ]
  },
  {
   "cell_type": "markdown",
   "id": "legitimate-agency",
   "metadata": {},
   "source": [
    "<a id=\"BestAEC\"></a>\n",
    "### 4.5 Select Best AEC Run\n",
    "Use Tensorboard to view outputs from the various hyperparameter runs."
   ]
  },
  {
   "cell_type": "code",
   "execution_count": null,
   "id": "convertible-employer",
   "metadata": {},
   "outputs": [],
   "source": [
    "batch_size = 64\n",
    "LR = 0.001\n",
    "\n",
    "expserial = 'Exp20210727T192309'\n",
    "runserial = f'Run_BatchSz={batch_size}_LR={LR}'\n",
    "# exp_path = f\"{path_output}/Models/AEC/{expserial}/{runserial}\"\n",
    "exp_path_AEC = os.path.join(path_output, 'Models', 'AEC', expserial, runserial)\n",
    "\n",
    "weights_AEC = os.path.join(exp_path_AEC, 'AEC_Params_Final.pt')\n",
    "print(weights_AEC)"
   ]
  },
  {
   "cell_type": "markdown",
   "id": "suspected-elimination",
   "metadata": {},
   "source": [
    "Return to [Section 6.2](#ConfigDCM)<br>\n",
    "Return to [Section 7](#section7)"
   ]
  },
  {
   "cell_type": "markdown",
   "id": "primary-leather",
   "metadata": {},
   "source": [
    "### 4.6 Evaluate AEC Training Performance"
   ]
  },
  {
   "cell_type": "markdown",
   "id": "reserved-horror",
   "metadata": {},
   "source": [
    "#### 4.6.1 Load Data and Model Parameters"
   ]
  },
  {
   "cell_type": "code",
   "execution_count": null,
   "id": "north-robert",
   "metadata": {},
   "outputs": [],
   "source": [
    "dataset = utils.SeismicDataset(fname_dataset, 'h5')\n",
    "\n",
    "model_AEC = AEC().to(device)\n",
    "model_AEC = utils.load_weights(model_AEC, weights_AEC, device)"
   ]
  },
  {
   "cell_type": "markdown",
   "id": "f864199d",
   "metadata": {},
   "source": [
    "Return to [Section 5.3](#GMMeval)"
   ]
  },
  {
   "cell_type": "markdown",
   "id": "conscious-count",
   "metadata": {},
   "source": [
    "#### 4.6.2 Training and Validation History"
   ]
  },
  {
   "cell_type": "code",
   "execution_count": null,
   "id": "neural-hanging",
   "metadata": {
    "scrolled": true
   },
   "outputs": [],
   "source": [
    "fig = plotting.view_history_AEC(os.path.join(exp_path_AEC, 'AEC_history.csv'), show=True)"
   ]
  },
  {
   "cell_type": "code",
   "execution_count": null,
   "id": "65a33fe9",
   "metadata": {},
   "outputs": [],
   "source": [
    "fig.savefig(os.path.join(figure_savepath, 'AEC_History.eps'), dpi=300, facecolor='w')"
   ]
  },
  {
   "cell_type": "markdown",
   "id": "driving-seattle",
   "metadata": {},
   "source": [
    "#### 4.6.3 Input, Latent Space, and Reconstruction"
   ]
  },
  {
   "cell_type": "code",
   "execution_count": null,
   "id": "superb-travel",
   "metadata": {},
   "outputs": [],
   "source": [
    "fig = plotting.compare_images(model_AEC, 0, config_AEC)"
   ]
  },
  {
   "cell_type": "code",
   "execution_count": null,
   "id": "9f2218f6",
   "metadata": {},
   "outputs": [],
   "source": [
    "fig.savefig(os.path.join(figure_savepath, 'CompareInOut.eps'), dpi=300, facecolor='w')"
   ]
  },
  {
   "cell_type": "markdown",
   "id": "93740992",
   "metadata": {},
   "source": [
    "### 4.7 Evaluate all data through AEC"
   ]
  },
  {
   "cell_type": "markdown",
   "id": "98a42a61",
   "metadata": {},
   "source": [
    "#### 4.7.1 Configure AEC Evaluation"
   ]
  },
  {
   "cell_type": "code",
   "execution_count": null,
   "id": "c4cd2724",
   "metadata": {},
   "outputs": [],
   "source": [
    "parameters = {\n",
    "    'model': 'AEC',\n",
    "    'mode': 'predict',\n",
    "    'show': False,\n",
    "    'send_message': False,\n",
    "    'transform': 'vec_norm',\n",
    "#     'img_index': str(img_index)[1:-1],\n",
    "    'tb': False,\n",
    "    'workers': 8,\n",
    "    'loadmode': 'ram',\n",
    "    'datafiletype': 'h5',\n",
    "    'saved_weights': weights_AEC\n",
    "}\n",
    "init_path = utils.config_training(universal, parameters)"
   ]
  },
  {
   "cell_type": "markdown",
   "id": "5f66e992",
   "metadata": {},
   "source": [
    "#### 4.7.2 Evaluate all data"
   ]
  },
  {
   "cell_type": "code",
   "execution_count": null,
   "id": "ee728185",
   "metadata": {},
   "outputs": [],
   "source": [
    "print(\"Run the following in Terminal:\")\n",
    "md(f\"`runDC {init_path}`\")"
   ]
  },
  {
   "cell_type": "markdown",
   "id": "ed7700df",
   "metadata": {},
   "source": [
    "#### 4.7.3 Display Metrics for Entire Dataset\n",
    "This metric is calculated by measuring the MSE of *all* spectrograms in the data set."
   ]
  },
  {
   "cell_type": "code",
   "execution_count": null,
   "id": "e07989bd",
   "metadata": {},
   "outputs": [],
   "source": [
    "with open(os.path.join(exp_path_AEC, 'Prediction', 'MSE.txt'), 'r') as f:\n",
    "    print(f.read())"
   ]
  },
  {
   "cell_type": "markdown",
   "id": "0f4fc20a",
   "metadata": {},
   "source": [
    "[Return to Top](#contents)\n",
    "<a id=\"section5\"></a>\n",
    "***\n",
    "## <u>5 Gaussian Mixtures Model (GMM)</u>"
   ]
  },
  {
   "cell_type": "markdown",
   "id": "a7180625",
   "metadata": {},
   "source": [
    "### 5.1 Configure GMM"
   ]
  },
  {
   "cell_type": "code",
   "execution_count": null,
   "id": "8e4d0938",
   "metadata": {},
   "outputs": [],
   "source": [
    "parameters = {\n",
    "    'model': 'GMM',\n",
    "    'mode': 'fit',\n",
    "    'show': False,\n",
    "    'send_message': False,\n",
    "    'transform': 'vec_norm',\n",
    "    'img_index': str(img_index)[1:-1],\n",
    "    'tb': False,\n",
    "    'workers': 8,\n",
    "    'loadmode': 'ram',\n",
    "    'datafiletype': 'h5',\n",
    "    'saved_weights': weights_AEC\n",
    "}\n",
    "hyperparameters = {\n",
    "    'n_clusters': '5, 6, 7, 8, 9, 10'\n",
    "}\n",
    "init_path = utils.config_training(universal, parameters, hyperparameters)\n",
    "config_GMM = utils.Configuration(init_path)\n",
    "config_GMM.load_config()\n",
    "config_GMM.set_device(device_no)\n",
    "config_GMM.show = True"
   ]
  },
  {
   "cell_type": "markdown",
   "id": "3e0fcb4a",
   "metadata": {},
   "source": [
    "### 5.2 Run GMM"
   ]
  },
  {
   "cell_type": "code",
   "execution_count": null,
   "id": "569348cd",
   "metadata": {},
   "outputs": [],
   "source": [
    "print(\"Run the following in Terminal:\")\n",
    "md(f\"`runDC {init_path}`\")"
   ]
  },
  {
   "cell_type": "markdown",
   "id": "9ebf1444",
   "metadata": {},
   "source": [
    "<a id=\"GMMeval\"></a>\n",
    "### 5.3 Evaluate GMM Performance\n",
    "Run [4.5](#BestAEC) and 4.6.1 to load AEC model."
   ]
  },
  {
   "cell_type": "markdown",
   "id": "8d95cc51",
   "metadata": {},
   "source": [
    "#### 5.3.1 Load Data"
   ]
  },
  {
   "cell_type": "code",
   "execution_count": null,
   "id": "12b6404b",
   "metadata": {},
   "outputs": [],
   "source": [
    "n_clusters = 8\n",
    "loadpath_GMM = os.path.join(exp_path_AEC, 'GMM', f'n_clusters={n_clusters}')\n",
    "centroids_GMM = np.load(os.path.join(loadpath_GMM, 'centroids.npy'))\n",
    "labels_GMM = np.load(os.path.join(loadpath_GMM, 'labels.npy'))\n",
    "silh_scores_GMM = np.load(os.path.join(loadpath_GMM, 'silh_scores.npy'))\n",
    "z_AEC = np.load(os.path.join(exp_path_AEC, 'Prediction', 'Z_AEC.npy'))"
   ]
  },
  {
   "cell_type": "markdown",
   "id": "927f55b8",
   "metadata": {},
   "source": [
    "#### 5.3.2 View Clustering Statistics"
   ]
  },
  {
   "cell_type": "code",
   "execution_count": null,
   "id": "cca6d696",
   "metadata": {},
   "outputs": [],
   "source": [
    "pd.set_option('display.float_format', lambda x: '%.4e' % x)\n",
    "df_GMM = pd.read_csv(os.path.join(loadpath_GMM, 'cluster_performance.csv'))\n",
    "df_GMM['class'] = df_GMM['class'].fillna(-1).astype(int)\n",
    "df_GMM['N'] = df_GMM['N'].fillna(-1).astype(int)\n",
    "df_GMM"
   ]
  },
  {
   "cell_type": "markdown",
   "id": "50e284f0",
   "metadata": {},
   "source": [
    "#### 5.3.3 View Clustering Results"
   ]
  },
  {
   "cell_type": "code",
   "execution_count": null,
   "id": "0326d3d5",
   "metadata": {
    "scrolled": false
   },
   "outputs": [],
   "source": [
    "p = 2\n",
    "fig = plotting.cluster_gallery(\n",
    "    model_AEC,\n",
    "    dataset,\n",
    "    fname_dataset,\n",
    "    device,\n",
    "    z_AEC,\n",
    "    labels_GMM,\n",
    "    centroids_GMM,\n",
    "    p,\n",
    "    True,\n",
    "    True\n",
    ")"
   ]
  },
  {
   "cell_type": "code",
   "execution_count": null,
   "id": "94f29d37",
   "metadata": {},
   "outputs": [],
   "source": [
    "fig.savefig(os.path.join(figure_savepath, 'GMM_Gallery.eps'), dpi=300, facecolor='w')"
   ]
  },
  {
   "cell_type": "markdown",
   "id": "fbcd2258",
   "metadata": {},
   "source": [
    "#### 5.3.4 View Silhouette Analysis"
   ]
  },
  {
   "cell_type": "code",
   "execution_count": null,
   "id": "ecaf22bb",
   "metadata": {
    "scrolled": false
   },
   "outputs": [],
   "source": [
    "fig = plotting.view_silhscore(silh_scores_GMM, labels_GMM, n_clusters, 'GMM')"
   ]
  },
  {
   "cell_type": "code",
   "execution_count": null,
   "id": "4133a37b",
   "metadata": {},
   "outputs": [],
   "source": [
    "fig.savefig(os.path.join(figure_savepath, 'GMM_Silh.eps'), dpi=300, facecolor='w')"
   ]
  },
  {
   "cell_type": "markdown",
   "id": "f37a7c98",
   "metadata": {},
   "source": [
    "#### 5.3.5 View t-SNE Analysis"
   ]
  },
  {
   "cell_type": "code",
   "execution_count": null,
   "id": "d481e9e5",
   "metadata": {},
   "outputs": [],
   "source": [
    "try:\n",
    "    from cuml import TSNE\n",
    "except:\n",
    "    from sklearn.manifold import TSNE\n",
    "\n",
    "M = len(z_AEC)\n",
    "results_GMM = TSNE(n_components=2, perplexity=int(M/50), early_exaggeration=2000, learning_rate=int(M/25), n_iter=3000, verbose=0, random_state=2009).fit_transform(z_GMM.astype('float64'))"
   ]
  },
  {
   "cell_type": "code",
   "execution_count": null,
   "id": "9e3ac7df",
   "metadata": {},
   "outputs": [],
   "source": [
    "fig = plotting.view_TSNE(results_GMM, labels_GMM, 't-SNE Results: GMM', True)"
   ]
  },
  {
   "cell_type": "code",
   "execution_count": null,
   "id": "3966570c",
   "metadata": {},
   "outputs": [],
   "source": [
    "fig.savefig(os.path.join(figure_savepath, 'GMM_TSNE.eps'), dpi=300, facecolor='w')"
   ]
  },
  {
   "cell_type": "markdown",
   "id": "multiple-maine",
   "metadata": {},
   "source": [
    "[Return to Top](#contents)\n",
    "<a id=\"section6\"></a>\n",
    "***\n",
    "## <u>6 Deep Embedded Clustering (DEC)</u>"
   ]
  },
  {
   "cell_type": "markdown",
   "id": "extended-houston",
   "metadata": {},
   "source": [
    "### 6.1 DEC Model Architecture"
   ]
  },
  {
   "cell_type": "code",
   "execution_count": null,
   "id": "integrated-comment",
   "metadata": {},
   "outputs": [],
   "source": [
    "summary(DEC(n_clusters=5), (1, 1, 87, 100))"
   ]
  },
  {
   "cell_type": "markdown",
   "id": "naval-tactics",
   "metadata": {},
   "source": [
    "<a id=\"ConfigDCM\"></a>\n",
    "### 6.2 Configure Training\n",
    "Run [4.5](#BestAEC) first to get AEC weights."
   ]
  },
  {
   "cell_type": "code",
   "execution_count": null,
   "id": "statewide-coffee",
   "metadata": {},
   "outputs": [],
   "source": [
    "parameters = {\n",
    "    'model': 'DEC',\n",
    "    'mode': 'train',\n",
    "    'n_epochs': 400,\n",
    "    'show': False,\n",
    "    'send_message': False,\n",
    "    'transform': 'vec_norm',\n",
    "    'tb': True,\n",
    "    'tbport': 6999,\n",
    "    'workers': 4,\n",
    "    'loadmode': 'ram',\n",
    "    'datafiletype': 'h5',\n",
    "    'init': 'load',\n",
    "    'update_interval': -1,\n",
    "    'saved_weights': weights_AEC\n",
    "}\n",
    "\n",
    "hyperparameters = {\n",
    "    'batch_size': '64',\n",
    "    'lr': '0.001',\n",
    "    'n_clusters': '10',\n",
    "    'gamma': '0.001',\n",
    "    'tol': 0.003\n",
    "}\n",
    "init_path = utils.config_training(universal, parameters, hyperparameters)\n",
    "config_DEC = utils.Configuration(init_path)\n",
    "config_DEC.load_config()\n",
    "config_DEC.set_device(device_no)\n",
    "config_DEC.show = True"
   ]
  },
  {
   "cell_type": "markdown",
   "id": "reduced-burner",
   "metadata": {},
   "source": [
    "### 6.3 Train DEC Model"
   ]
  },
  {
   "cell_type": "markdown",
   "id": "devoted-division",
   "metadata": {},
   "source": [
    "Run the following in Terminal:"
   ]
  },
  {
   "cell_type": "code",
   "execution_count": null,
   "id": "advised-complement",
   "metadata": {},
   "outputs": [],
   "source": [
    "md(f\"`runDC {init_path}`\")"
   ]
  },
  {
   "cell_type": "markdown",
   "id": "split-poverty",
   "metadata": {
    "scrolled": true
   },
   "source": [
    "To specify which CUDA device(s) is(are) used, prepend the following:"
   ]
  },
  {
   "cell_type": "code",
   "execution_count": null,
   "id": "contemporary-current",
   "metadata": {},
   "outputs": [],
   "source": [
    "md(f\"`CUDA_VISIBLE_DEVICES=7 runDC {init_path}`\")"
   ]
  },
  {
   "cell_type": "markdown",
   "id": "representative-syria",
   "metadata": {},
   "source": [
    "<a id=\"BestDEC\"></a>\n",
    "### 6.4 Select Best DEC Run\n",
    "Use Tensorboard to view outputs from the various hyperparameter runs."
   ]
  },
  {
   "cell_type": "code",
   "execution_count": null,
   "id": "cellular-sponsorship",
   "metadata": {},
   "outputs": [],
   "source": [
    "n_clusters = 8\n",
    "batch_size = 64\n",
    "LR = 0.001\n",
    "gamma = 0.001\n",
    "tol = 0.003\n",
    "\n",
    "expserial = 'Exp20210730T172829'\n",
    "runserial = f'Run_Clusters={n_clusters}_BatchSz={batch_size}_LR={LR}_gamma={gamma}_tol={tol}'\n",
    "exp_path_DEC = os.path.join(path_output, 'Models', 'DEC', expserial, runserial)\n",
    "weights_DEC = os.path.join(exp_path_DEC, 'DEC_Params_Final.pt')\n",
    "print(weights_DEC)"
   ]
  },
  {
   "cell_type": "markdown",
   "id": "cf2e54b2",
   "metadata": {},
   "source": [
    "Return to [Section 6.6](#DECeval)<br>\n",
    "Return to [Section 7](#section7)<br>\n",
    "Return to [Section 8](#section8)"
   ]
  },
  {
   "cell_type": "markdown",
   "id": "5e558729",
   "metadata": {},
   "source": [
    "### 6.5 Evaluate DEC Training Performance"
   ]
  },
  {
   "cell_type": "code",
   "execution_count": null,
   "id": "308c4aca",
   "metadata": {
    "scrolled": true
   },
   "outputs": [],
   "source": [
    "fig = plotting.view_history_DEC([os.path.join(exp_path_DEC, 'DEC_history.csv'), os.path.join(exp_path_DEC, 'Delta_history.csv')], show=True)"
   ]
  },
  {
   "cell_type": "code",
   "execution_count": null,
   "id": "defb05e3",
   "metadata": {},
   "outputs": [],
   "source": [
    "fig.savefig(os.path.join(figure_savepath, 'DEC_History.eps'), dpi=300, facecolor='w')"
   ]
  },
  {
   "cell_type": "markdown",
   "id": "8072ac58",
   "metadata": {},
   "source": [
    "### 6.6 Evaluate all data through DEC"
   ]
  },
  {
   "cell_type": "code",
   "execution_count": null,
   "id": "97481075",
   "metadata": {},
   "outputs": [],
   "source": [
    "parameters = {\n",
    "    'model': 'DEC',\n",
    "    'mode': 'predict',\n",
    "    'show': False,\n",
    "    'send_message': False,\n",
    "    'transform': 'vec_norm',\n",
    "#     'img_index': str(img_index)[1:-1],\n",
    "    'tb': False,\n",
    "    'workers': 16,\n",
    "    'loadmode': 'ram',\n",
    "    'datafiletype': 'h5',\n",
    "    'saved_weights': weights_DEC\n",
    "}\n",
    "init_path = utils.config_training(universal, parameters)"
   ]
  },
  {
   "cell_type": "code",
   "execution_count": null,
   "id": "468cb9e5",
   "metadata": {
    "scrolled": true
   },
   "outputs": [],
   "source": [
    "print(\"Run the following in Terminal:\")\n",
    "md(f\"`runDC {init_path}`\")"
   ]
  },
  {
   "cell_type": "markdown",
   "id": "8274a00d",
   "metadata": {
    "scrolled": true
   },
   "source": [
    "To specify which CUDA device(s) is(are) used, prepend the following:"
   ]
  },
  {
   "cell_type": "code",
   "execution_count": null,
   "id": "f254a895",
   "metadata": {},
   "outputs": [],
   "source": [
    "md(f\"`CUDA_VISIBLE_DEVICES=1 runDC {init_path}`\")"
   ]
  },
  {
   "cell_type": "markdown",
   "id": "50fe58ce",
   "metadata": {},
   "source": [
    "<a id=\"DECeval\"></a>\n",
    "### 6.7 Evaluate DEC Performance\n",
    "Run [6.4](#BestDEC) first to get DEC weights."
   ]
  },
  {
   "cell_type": "markdown",
   "id": "713824f7",
   "metadata": {},
   "source": [
    "#### 6.7.1 Load Data and Model Parameters"
   ]
  },
  {
   "cell_type": "code",
   "execution_count": null,
   "id": "3fb1285d",
   "metadata": {
    "scrolled": true
   },
   "outputs": [],
   "source": [
    "dataset = utils.SeismicDataset(fname_dataset, 'h5')\n",
    "model_DEC = DEC(n_clusters).to(device)\n",
    "model_DEC = utils.load_weights(model_DEC, weights_DEC, device)"
   ]
  },
  {
   "cell_type": "markdown",
   "id": "2e0781b4",
   "metadata": {},
   "source": [
    "#### 6.7.2 Load Data"
   ]
  },
  {
   "cell_type": "code",
   "execution_count": null,
   "id": "6e13740a",
   "metadata": {},
   "outputs": [],
   "source": [
    "loadpath_DEC = os.path.join(exp_path_DEC, 'Prediction')\n",
    "centroids_DEC = np.load(os.path.join(loadpath_DEC, 'centroids_DEC.npy'))\n",
    "labels_DEC = np.load(os.path.join(loadpath_DEC, 'labels_DEC.npy'))\n",
    "silh_scores_DEC = np.load(os.path.join(loadpath_DEC, 'silh_scores.npy'))\n",
    "z_DEC = np.load(os.path.join(loadpath_DEC, 'Z_DEC.npy'))"
   ]
  },
  {
   "cell_type": "markdown",
   "id": "2ba44fda",
   "metadata": {},
   "source": [
    "#### 6.7.3 View Clustering Statistics"
   ]
  },
  {
   "cell_type": "code",
   "execution_count": null,
   "id": "1c4c6d31",
   "metadata": {},
   "outputs": [],
   "source": [
    "pd.set_option('display.float_format', lambda x: '%.4e' % x)\n",
    "df_DEC = pd.read_csv(os.path.join(loadpath_DEC, 'cluster_performance.csv'))\n",
    "df_DEC['class'] = df_DEC['class'].fillna(-1).astype(int)\n",
    "df_DEC['N'] = df_DEC['N'].fillna(-1).astype(int)\n",
    "df_DEC"
   ]
  },
  {
   "cell_type": "markdown",
   "id": "9f59681c",
   "metadata": {},
   "source": [
    "#### 6.7.4 View Clustering Results"
   ]
  },
  {
   "cell_type": "code",
   "execution_count": null,
   "id": "dd7fb03d",
   "metadata": {
    "scrolled": false
   },
   "outputs": [],
   "source": [
    "p = 2\n",
    "fig = plotting.cluster_gallery(\n",
    "    model_DEC,\n",
    "    dataset,\n",
    "    fname_dataset,\n",
    "    device,\n",
    "    z_DEC,\n",
    "    labels_DEC,\n",
    "    centroids_DEC,\n",
    "    p,\n",
    "    True,\n",
    "    True\n",
    ")"
   ]
  },
  {
   "cell_type": "code",
   "execution_count": null,
   "id": "783dc1c9",
   "metadata": {},
   "outputs": [],
   "source": [
    "fig.savefig(os.path.join(figure_savepath, 'GMM_Gallery.eps'), dpi=300, facecolor='w')"
   ]
  },
  {
   "cell_type": "markdown",
   "id": "ec37a9ef",
   "metadata": {},
   "source": [
    "#### 6.7.5 View Silhouette Analysis"
   ]
  },
  {
   "cell_type": "code",
   "execution_count": null,
   "id": "3a3815ea",
   "metadata": {
    "scrolled": false
   },
   "outputs": [],
   "source": [
    "fig = plotting.view_silhscore(silh_scores_DEC, labels_DEC, n_clusters, 'DEC')"
   ]
  },
  {
   "cell_type": "code",
   "execution_count": null,
   "id": "75b620ff",
   "metadata": {},
   "outputs": [],
   "source": [
    "fig.savefig(os.path.join(figure_savepath, 'GMM_Silh.eps'), dpi=300, facecolor='w')"
   ]
  },
  {
   "cell_type": "markdown",
   "id": "657719a4",
   "metadata": {},
   "source": [
    "#### 6.7.6 View t-SNE Analysis"
   ]
  },
  {
   "cell_type": "code",
   "execution_count": null,
   "id": "d0128ecd",
   "metadata": {},
   "outputs": [],
   "source": [
    "try:\n",
    "    from cuml import TSNE\n",
    "except:\n",
    "    from sklearn.manifold import TSNE\n",
    "\n",
    "M = len(z_DEC)\n",
    "results_DEC = TSNE(n_components=2, perplexity=int(M/50), early_exaggeration=2000, learning_rate=int(M/25), n_iter=3000, verbose=0, random_state=2009).fit_transform(z_DEC.astype('float64'))"
   ]
  },
  {
   "cell_type": "code",
   "execution_count": null,
   "id": "cbabc7e8",
   "metadata": {},
   "outputs": [],
   "source": [
    "fig = plotting.view_TSNE(results_DEC, labels_DEC, 't-SNE Results: GMM', True)"
   ]
  },
  {
   "cell_type": "code",
   "execution_count": null,
   "id": "2548da63",
   "metadata": {},
   "outputs": [],
   "source": [
    "fig.savefig(os.path.join(figure_savepath, 'GMM_TSNE.eps'), dpi=300, facecolor='w')"
   ]
  },
  {
   "cell_type": "markdown",
   "id": "7e6de72e",
   "metadata": {},
   "source": [
    "[Return to Top](#contents)\n",
    "<a id=\"section7\"></a>\n",
    "***\n",
    "## <u>7 Compare GMM & DEC</u>\n",
    "\n",
    "Run [4.5](#BestAEC) and [6.4](#BestDEC) first to get AEC and DEC weights."
   ]
  },
  {
   "cell_type": "markdown",
   "id": "a4506e23",
   "metadata": {},
   "source": [
    "### 7.1 Load Data"
   ]
  },
  {
   "cell_type": "code",
   "execution_count": null,
   "id": "3e05e918",
   "metadata": {},
   "outputs": [],
   "source": [
    "dataset = utils.SeismicDataset(fname_dataset, 'h5')\n",
    "n_clusters = 8\n",
    "batch_size = 64\n",
    "LR = 0.001\n",
    "gamma = 0.001\n",
    "tol = 0.003\n",
    "\n",
    "pd.set_option('display.float_format', lambda x: '%.3e' % x)\n",
    "\n",
    "# Load AEC/GMM data:\n",
    "model_AEC = AEC().to(device)\n",
    "model_AEC = utils.load_weights(model_AEC, weights_AEC, device)\n",
    "\n",
    "loadpath_GMM = os.path.join(exp_path_AEC, 'GMM', f'n_clusters={n_clusters}')\n",
    "centroids_GMM = np.load(os.path.join(loadpath_GMM, 'centroids.npy'))\n",
    "labels_GMM = np.load(os.path.join(loadpath_GMM, 'labels.npy'))\n",
    "silh_scores_GMM = np.load(os.path.join(loadpath_GMM, 'silh_scores.npy'))\n",
    "z_AEC = np.load(os.path.join(exp_path_AEC, 'Prediction', 'Z_AEC.npy'))\n",
    "\n",
    "MSE_GMM = np.load(os.path.join(loadpath_GMM, 'X_MSE.npy'))\n",
    "ip_GMM = np.load(os.path.join(loadpath_GMM, 'X_ip.npy'))\n",
    "\n",
    "df_GMM = pd.read_csv(os.path.join(loadpath_GMM, 'cluster_performance.csv'))\n",
    "df_GMM['class'] = df_GMM['class'].fillna(-1).astype(int)\n",
    "df_GMM['N'] = df_GMM['N'].fillna(-1).astype(int)\n",
    "\n",
    "# Load DEC data:\n",
    "expserial = 'Exp20210730T172829'\n",
    "runserial = f'Run_Clusters={n_clusters}_BatchSz={batch_size}_LR={LR}_gamma={gamma}_tol={tol}'\n",
    "exp_path_DEC = os.path.join(path_output, 'Models', 'DEC', expserial, runserial)\n",
    "weights_DEC = os.path.join(exp_path_DEC, 'DEC_Params_Final.pt')\n",
    "\n",
    "model_DEC = DEC(n_clusters).to(device)\n",
    "model_DEC = utils.load_weights(model_DEC, weights_DEC, device)\n",
    "\n",
    "loadpath_DEC = os.path.join(exp_path_DEC, 'Prediction')\n",
    "centroids_DEC = np.load(os.path.join(loadpath_DEC, 'centroids_DEC.npy'))\n",
    "labels_DEC = np.load(os.path.join(loadpath_DEC, 'labels_DEC.npy'))\n",
    "silh_scores_DEC = np.load(os.path.join(loadpath_DEC, 'silh_scores.npy'))\n",
    "z_DEC = np.load(os.path.join(loadpath_DEC, 'Z_DEC.npy'))\n",
    "\n",
    "MSE_DEC = np.load(os.path.join(loadpath_DEC, 'X_MSE.npy'))\n",
    "ip_DEC = np.load(os.path.join(loadpath_DEC, 'X_ip.npy'))\n",
    "\n",
    "df_DEC = pd.read_csv(os.path.join(loadpath_DEC, 'cluster_performance.csv'))\n",
    "df_DEC['class'] = df_DEC['class'].fillna(-1).astype(int)\n",
    "df_DEC['N'] = df_DEC['N'].fillna(-1).astype(int)"
   ]
  },
  {
   "cell_type": "markdown",
   "id": "c5ab1795",
   "metadata": {},
   "source": [
    "### 7.2 Cluster Metrics"
   ]
  },
  {
   "cell_type": "markdown",
   "id": "34ff2bf7",
   "metadata": {},
   "source": [
    "#### 7.2.1 Intra-cluster Similarity Metrics\n",
    "Display metrics for intra-cluster sample similarity, comparing GMM (right) with DEC (left)."
   ]
  },
  {
   "cell_type": "code",
   "execution_count": null,
   "id": "4be3aaef",
   "metadata": {},
   "outputs": [],
   "source": [
    "df = pd.concat([df_GMM, df_DEC], axis=1)\n",
    "df"
   ]
  },
  {
   "cell_type": "markdown",
   "id": "7a87044b",
   "metadata": {},
   "source": [
    "#### 7.2.2 Label Changes"
   ]
  },
  {
   "cell_type": "code",
   "execution_count": null,
   "id": "520e4845",
   "metadata": {},
   "outputs": [],
   "source": [
    "df = utils.measure_label_change(labels_GMM, labels_DEC)\n",
    "df"
   ]
  },
  {
   "cell_type": "markdown",
   "id": "cb221bbd",
   "metadata": {},
   "source": [
    "### 7.3 Figure Comparisons"
   ]
  },
  {
   "cell_type": "markdown",
   "id": "identified-diversity",
   "metadata": {},
   "source": [
    "#### 7.3.1 Clustering Results"
   ]
  },
  {
   "cell_type": "code",
   "execution_count": null,
   "id": "split-diagram",
   "metadata": {
    "scrolled": true
   },
   "outputs": [],
   "source": [
    "p = 2\n",
    "print('GMM ' + '=' * 75)\n",
    "fig1 = plotting.cluster_gallery(\n",
    "    model_AEC,\n",
    "    dataset,\n",
    "    fname_dataset,\n",
    "    device,\n",
    "    z_AEC,\n",
    "    labels_GMM,\n",
    "    centroids_GMM,\n",
    "    p,\n",
    "    True,\n",
    "    True\n",
    ")\n",
    "print('DEC' + '=' * 75)\n",
    "fig2 = plotting.cluster_gallery(\n",
    "    model_DEC,\n",
    "    dataset,\n",
    "    fname_dataset,\n",
    "    device,\n",
    "    z_DEC,\n",
    "    labels_DEC,\n",
    "    centroids_DEC,\n",
    "    p,\n",
    "    True,\n",
    "    True\n",
    ")"
   ]
  },
  {
   "cell_type": "code",
   "execution_count": null,
   "id": "cdfe2d40",
   "metadata": {},
   "outputs": [],
   "source": [
    "fig1.savefig(os.path.join(figure_savepath, 'Results_GMM.pdf'), dpi=300, facecolor='w')\n",
    "fig2.savefig(os.path.join(figure_savepath, 'Results_DEC.pdf'), dpi=300, facecolor='w')"
   ]
  },
  {
   "cell_type": "markdown",
   "id": "d1c4af03",
   "metadata": {},
   "source": [
    "#### 7.3.2 Silhouette Analysis"
   ]
  },
  {
   "cell_type": "code",
   "execution_count": null,
   "id": "fe0612ff",
   "metadata": {},
   "outputs": [],
   "source": [
    "fig1 = plotting.view_silhscore(silh_scores_GMM, labels_GMM, n_clusters, 'GMM')\n",
    "fig2 = plotting.view_silhscore(silh_scores_DEC, labels_DEC, n_clusters, 'DEC')"
   ]
  },
  {
   "cell_type": "code",
   "execution_count": null,
   "id": "a68a1f55",
   "metadata": {},
   "outputs": [],
   "source": [
    "fig1.savefig(os.path.join(figure_savepath, 'Silh_GMM.pdf'), dpi=300, facecolor='w')\n",
    "fig2.savefig(os.path.join(figure_savepath, 'Silh_DEC.pdf'), dpi=300, facecolor='w')"
   ]
  },
  {
   "cell_type": "markdown",
   "id": "prostate-harrison",
   "metadata": {},
   "source": [
    "#### 7.3.3 t-SNE Results"
   ]
  },
  {
   "cell_type": "code",
   "execution_count": null,
   "id": "mobile-watson",
   "metadata": {},
   "outputs": [],
   "source": [
    "if sys.platform == 'darwin':\n",
    "    from sklearn.manifold import TSNE\n",
    "elif sys.platform == 'linux':\n",
    "    from cuml import TSNE\n",
    "\n",
    "M = len(z_AEC)\n",
    "results_GMM = TSNE(n_components=2, perplexity=int(M/50), early_exaggeration=2000, learning_rate=int(M/25), n_iter=3000, verbose=0, random_state=2009).fit_transform(z_AEC.astype('float64'))\n",
    "results_DEC = TSNE(n_components=2, perplexity=int(M/50), early_exaggeration=2000, learning_rate=int(M/25), n_iter=3000, verbose=0, random_state=2009).fit_transform(z_DEC.astype('float64'))"
   ]
  },
  {
   "cell_type": "code",
   "execution_count": null,
   "id": "3cde1282",
   "metadata": {},
   "outputs": [],
   "source": [
    "fig1 = plotting.view_TSNE(results_GMM, labels_GMM, 't-SNE Results: GMM', show=True)\n",
    "fig2 = plotting.view_TSNE(results_DEC, labels_DEC, 't-SNE Results: DEC', show=True)"
   ]
  },
  {
   "cell_type": "code",
   "execution_count": null,
   "id": "legitimate-repair",
   "metadata": {},
   "outputs": [],
   "source": [
    "fig1.savefig(os.path.join(figure_savepath, 'tSNE_GMM.pdf'), dpi=300, facecolor='w')\n",
    "fig2.savefig(os.path.join(figure_savepath, 'tSNE_DEC.pdf'), dpi=300, facecolor='w')"
   ]
  },
  {
   "cell_type": "markdown",
   "id": "manual-collection",
   "metadata": {},
   "source": [
    "#### 7.3.4 View Latent Space"
   ]
  },
  {
   "cell_type": "code",
   "execution_count": null,
   "id": "behavioral-onion",
   "metadata": {},
   "outputs": [],
   "source": [
    "p = 2\n",
    "fig = plotting.view_latent_space(\n",
    "    z_AEC,\n",
    "    z_DEC,\n",
    "    labels_GMM,\n",
    "    labels_DEC,\n",
    "    centroids_GMM,\n",
    "    centroids_DEC,\n",
    "    n_clusters,\n",
    "    p,\n",
    "    True,\n",
    "    True\n",
    ")"
   ]
  },
  {
   "cell_type": "code",
   "execution_count": null,
   "id": "likely-latest",
   "metadata": {},
   "outputs": [],
   "source": [
    "fig.savefig(os.path.join(figure_savepath, 'zspace.pdf'), dpi=300, facecolor='w')"
   ]
  },
  {
   "cell_type": "markdown",
   "id": "diagnostic-wrist",
   "metadata": {},
   "source": [
    "#### 7.3.5 Cluster CDFs"
   ]
  },
  {
   "cell_type": "code",
   "execution_count": null,
   "id": "dedicated-horizontal",
   "metadata": {},
   "outputs": [],
   "source": [
    "p = 2\n",
    "fig = plotting.view_class_cdf(\n",
    "    z_AEC,\n",
    "    z_DEC,\n",
    "    labels_GMM,\n",
    "    labels_DEC,\n",
    "    centroids_GMM,\n",
    "    centroids_DEC,\n",
    "    n_clusters,\n",
    "    p,\n",
    "    True,\n",
    "    True\n",
    ")"
   ]
  },
  {
   "cell_type": "code",
   "execution_count": null,
   "id": "elect-broadcast",
   "metadata": {},
   "outputs": [],
   "source": [
    "fig.savefig(os.path.join(figure_savepath, 'CDF.pdf'), dpi=300, facecolor='w')"
   ]
  },
  {
   "cell_type": "markdown",
   "id": "boring-genetics",
   "metadata": {},
   "source": [
    "#### 7.3.6 Cluster PDFs"
   ]
  },
  {
   "cell_type": "code",
   "execution_count": null,
   "id": "eastern-staff",
   "metadata": {
    "scrolled": true
   },
   "outputs": [],
   "source": [
    "p = 2\n",
    "fig = plotting.view_class_pdf(\n",
    "    z_AEC,\n",
    "    z_DEC,\n",
    "    labels_GMM,\n",
    "    labels_DEC,\n",
    "    centroids_GMM,\n",
    "    centroids_DEC,\n",
    "    n_clusters,\n",
    "    p,\n",
    "    True,\n",
    "    True\n",
    ")"
   ]
  },
  {
   "cell_type": "code",
   "execution_count": null,
   "id": "animated-chuck",
   "metadata": {},
   "outputs": [],
   "source": [
    "fig.savefig(os.path.join(figure_savepath, 'PDF.pdf'), dpi=300, facecolor='w')"
   ]
  },
  {
   "cell_type": "markdown",
   "id": "downtown-attraction",
   "metadata": {},
   "source": [
    "[Return to Top](#contents)\n",
    "<a id=\"section8\"></a>\n",
    "***\n",
    "## <u>8 Environmental Data Exploration</u>"
   ]
  },
  {
   "cell_type": "markdown",
   "id": "military-powell",
   "metadata": {},
   "source": [
    "### 8.1 Calculate Dataset Statistics\n",
    "Run [6.4](#BestDEC) first."
   ]
  },
  {
   "cell_type": "markdown",
   "id": "b2794ac0",
   "metadata": {},
   "source": [
    "#### 8.1.1 Load Catalogue"
   ]
  },
  {
   "cell_type": "code",
   "execution_count": null,
   "id": "82292cf3",
   "metadata": {},
   "outputs": [],
   "source": [
    "# A = [{'idx': i, 'label': labels_DEC[i]} for i in np.arange(M)]\n",
    "# utils.save_labels(A, os.path.join(exp_path_DEC))"
   ]
  },
  {
   "cell_type": "code",
   "execution_count": null,
   "id": "recent-basketball",
   "metadata": {},
   "outputs": [],
   "source": [
    "pd.reset_option('display.float_format')\n",
    "path_to_catalogue = f\"{fname_dataset}.csv\"\n",
    "path_to_labels = f\"{exp_path_DEC}/Labels.csv\"\n",
    "catalogue = utils.LabelCatalogue([path_to_catalogue, path_to_labels])"
   ]
  },
  {
   "cell_type": "markdown",
   "id": "d86a78d4",
   "metadata": {},
   "source": [
    "#### 8.1.2 Station Statistics\n",
    "View occurrence frequencies by station and label."
   ]
  },
  {
   "cell_type": "code",
   "execution_count": null,
   "id": "7022d4e6",
   "metadata": {},
   "outputs": [],
   "source": [
    "catalogue.station_statistics().sort_values(by=\"N\", ascending=False)"
   ]
  },
  {
   "cell_type": "markdown",
   "id": "34a21e2f",
   "metadata": {},
   "source": [
    "#### 8.1.3 Amplitude Statistics\n",
    "View amplitude characteristics for each class."
   ]
  },
  {
   "cell_type": "code",
   "execution_count": null,
   "id": "7adf79df",
   "metadata": {},
   "outputs": [],
   "source": [
    "catalogue.amplitude_statistics()"
   ]
  },
  {
   "cell_type": "markdown",
   "id": "ef80390b",
   "metadata": {},
   "source": [
    "#### 8.1.4 Seasonal Statistics\n",
    "Compare occurrence frequencies in austral winter (JFM) to austral summer (JJA)."
   ]
  },
  {
   "cell_type": "code",
   "execution_count": null,
   "id": "f1e7e225",
   "metadata": {},
   "outputs": [],
   "source": [
    "catalogue.seasonal_statistics(mode=True)"
   ]
  },
  {
   "cell_type": "markdown",
   "id": "95c486aa",
   "metadata": {},
   "source": [
    "#### 8.1.5 Peak Frequency Statistics\n",
    "View average peak frequencies for each class:"
   ]
  },
  {
   "cell_type": "code",
   "execution_count": null,
   "id": "09abf433",
   "metadata": {
    "scrolled": true
   },
   "outputs": [],
   "source": [
    "catalogue.get_peak_freq(fname_dataset, batch_size=2048, workers=12)"
   ]
  },
  {
   "cell_type": "markdown",
   "id": "8f774971",
   "metadata": {},
   "source": [
    "### 8.2 View Environmental Data & Detection Statistics"
   ]
  },
  {
   "cell_type": "markdown",
   "id": "7fe662dc",
   "metadata": {},
   "source": [
    "#### 8.2.1 View Station DR02"
   ]
  },
  {
   "cell_type": "code",
   "execution_count": null,
   "id": "531629b3",
   "metadata": {},
   "outputs": [],
   "source": [
    "station = \"DR02\"\n",
    "aws = \"gil\"\n",
    "fig = plotting.view_series(\n",
    "    station,\n",
    "    aws,\n",
    "    path_data,\n",
    "    path_to_catalogue,\n",
    "    path_to_labels,\n",
    "    env_vars=[\"sea_ice_conc\",\"temp\",\"wind_spd\"],\n",
    "    freq=\"hour\",\n",
    "    maxcounts=20,\n",
    "    title=f\"Station {station} Inter-annual Scale\",\n",
    "    show=True\n",
    ")"
   ]
  },
  {
   "cell_type": "code",
   "execution_count": null,
   "id": "733e948e",
   "metadata": {},
   "outputs": [],
   "source": [
    "fig.savefig(os.path.join(figure_savepath, f'{station}.eps'), dpi=300, facecolor='w')"
   ]
  },
  {
   "cell_type": "markdown",
   "id": "4634a845",
   "metadata": {},
   "source": [
    "#### 8.2.2 View Station RS09"
   ]
  },
  {
   "cell_type": "code",
   "execution_count": null,
   "id": "0ced7b24",
   "metadata": {
    "scrolled": true
   },
   "outputs": [],
   "source": [
    "station = \"RS09\"\n",
    "aws = \"mgt\"\n",
    "start = datetime.datetime(2016,6,15)\n",
    "stop = datetime.datetime(2016,7,15)\n",
    "fig1 = plotting.view_series(\n",
    "    station,\n",
    "    aws,\n",
    "    path_data,\n",
    "    path_to_catalogue,\n",
    "    path_to_labels,\n",
    "    env_vars=[\"temp\",\"wind_spd\",\"tide\"],\n",
    "    vlines=[start, stop],\n",
    "    freq=\"hour\",\n",
    "    maxcounts=30,\n",
    "    figsize=(12,9),\n",
    "    title=f\"Station {station} Interannual Scale\",\n",
    "    show=True\n",
    ")\n",
    "fig2 = plotting.view_series(\n",
    "    station,\n",
    "    aws,\n",
    "    path_data,\n",
    "    path_to_catalogue,\n",
    "    path_to_labels,\n",
    "    env_vars=[\"temp\",\"wind_spd\",\"tide\"],\n",
    "    times=[start, stop],\n",
    "    freq=\"hour\",\n",
    "    maxcounts=20,\n",
    "    figsize=(6,9),\n",
    "    title=f\"Station {station} Weekly Scale\",\n",
    "    showlabels=False,\n",
    "    show=True\n",
    ")"
   ]
  },
  {
   "cell_type": "code",
   "execution_count": null,
   "id": "2f88ae82",
   "metadata": {},
   "outputs": [],
   "source": [
    "fig1.savefig(os.path.join(figure_savepath, f'{station}_ia.eps'), dpi=300, facecolor='w')\n",
    "fig2.savefig(os.path.join(figure_savepath, f'{station}_wk.eps'), dpi=300, facecolor='w')"
   ]
  },
  {
   "cell_type": "markdown",
   "id": "5dfd341d",
   "metadata": {},
   "source": [
    "#### 8.2.3 Other Stations"
   ]
  },
  {
   "cell_type": "code",
   "execution_count": null,
   "id": "4f871e6b",
   "metadata": {},
   "outputs": [],
   "source": [
    "station = \"RS17\"\n",
    "aws = \"mgt\"\n",
    "start = datetime.datetime(2016,4,1)\n",
    "stop = datetime.datetime(2016,4,15)\n",
    "fig1 = plotting.view_series(\n",
    "    station,\n",
    "    aws,\n",
    "    path_data,\n",
    "    path_to_catalogue,\n",
    "    path_to_labels,\n",
    "    env_vars=[\"temp\",\"wind_spd\",\"tide\"],\n",
    "    vlines=[start, stop],\n",
    "    freq=\"hour\",\n",
    "    maxcounts=30,\n",
    "    figsize=(12,9),\n",
    "    title=f\"Station {station} Interannual Scale\",\n",
    "    show=True\n",
    ")\n",
    "fig2 = plotting.view_series(\n",
    "    station,\n",
    "    aws,\n",
    "    path_data,\n",
    "    path_to_catalogue,\n",
    "    path_to_labels,\n",
    "    env_vars=[\"temp\",\"wind_spd\",\"tide\"],\n",
    "    times=[start, stop],\n",
    "    freq=\"hour\",\n",
    "    maxcounts=20,\n",
    "    figsize=(6,9),\n",
    "    title=f\"Station {station} Weekly Scale\",\n",
    "    showlabels=False,\n",
    "    show=True\n",
    ")"
   ]
  },
  {
   "cell_type": "markdown",
   "id": "29cfa56c",
   "metadata": {},
   "source": [
    "<a href=\"#contents\">Return to Top</a>\n",
    "<a id=\"appendixA\"></a>\n",
    "***\n",
    "## Appendix A: Test for Optimal Number of Clusters"
   ]
  },
  {
   "cell_type": "markdown",
   "id": "28bbf6bc",
   "metadata": {},
   "source": [
    "### A.1 Load Data\n",
    "Run <a href=\"#BestAEC\">4.5</a> first to get AEC weights."
   ]
  },
  {
   "cell_type": "code",
   "execution_count": null,
   "id": "f9fc67d9",
   "metadata": {},
   "outputs": [],
   "source": [
    "index_tra, _ = utils.load_TraVal_index(fname_dataset, universal['indexpath'])\n",
    "\n",
    "tra_dataset = Subset(dataset, index_tra)\n",
    "dataloader = DataLoader(tra_dataset, batch_size=512, num_workers=16)\n",
    "\n",
    "model = AEC().to(device)\n",
    "model = utils.load_weights(model, AEC_weights, device)"
   ]
  },
  {
   "cell_type": "markdown",
   "id": "713d2693",
   "metadata": {},
   "source": [
    "### A.2 Compute K-means Metrics"
   ]
  },
  {
   "cell_type": "code",
   "execution_count": null,
   "id": "0f063967",
   "metadata": {},
   "outputs": [],
   "source": [
    "klist = '2, 20'\n",
    "klist = np.arange(int(klist.split(',')[0]), int(klist.split(',')[1])+1)\n",
    "inertia, silh, gap_g, gap_u = models.kmeans_metrics(dataloader, model, device, klist)"
   ]
  },
  {
   "cell_type": "markdown",
   "id": "219404ea",
   "metadata": {},
   "source": [
    "### A.3 Plot Metrics"
   ]
  },
  {
   "cell_type": "code",
   "execution_count": null,
   "id": "3c8c48da",
   "metadata": {},
   "outputs": [],
   "source": [
    "fig = plotting.view_cluster_stats(klist, inertia, silh, gap_g, gap_u, show=True)\n",
    "np.save('kmeans_inertia', inertia)"
   ]
  }
 ],
 "metadata": {
  "kernelspec": {
   "display_name": "RISCluster_CUDA",
   "language": "python",
   "name": "riscluster_cuda"
  },
  "language_info": {
   "codemirror_mode": {
    "name": "ipython",
    "version": 3
   },
   "file_extension": ".py",
   "mimetype": "text/x-python",
   "name": "python",
   "nbconvert_exporter": "python",
   "pygments_lexer": "ipython3",
   "version": "3.8.10"
  }
 },
 "nbformat": 4,
 "nbformat_minor": 5
}
